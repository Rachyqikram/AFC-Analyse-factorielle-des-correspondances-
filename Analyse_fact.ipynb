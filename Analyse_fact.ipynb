{
 "cells": [
  {
   "cell_type": "code",
   "execution_count": 71,
   "metadata": {
    "scrolled": true
   },
   "outputs": [],
   "source": [
    "import pandas\n",
    "import numpy\n",
    "import matplotlib.pyplot as plt\n",
    "import seaborn as sns\n",
    "from fanalysis.ca import CA\n",
    "import scipy"
   ]
  },
  {
   "cell_type": "markdown",
   "metadata": {},
   "source": [
    " Nous chargeons la feuille« AFC» du classeur « AFC.xlsx »."
   ]
  },
  {
   "cell_type": "code",
   "execution_count": 72,
   "metadata": {},
   "outputs": [
    {
     "name": "stdout",
     "output_type": "stream",
     "text": [
      "       Mauvais  Moyen  Bon  Tres bon\n",
      "16-24       69     49   48        41\n",
      "25-34      148     45   14        22\n",
      "35-44      170     65   12        29\n",
      "44-54      159     57   12        28\n",
      "55-64      122     26    6        18\n",
      "65-74      106     21    5        23\n",
      "75+         40      7    1        14\n"
     ]
    }
   ],
   "source": [
    "Data = pandas.read_excel(\"AFC.xlsx\",sheet_name=\"AFC\",index_col=0)\n",
    "print(Data);"
   ]
  },
  {
   "cell_type": "markdown",
   "metadata": {},
   "source": [
    "calculons les totaux en ligne et  les totaux en colonnes."
   ]
  },
  {
   "cell_type": "code",
   "execution_count": 73,
   "metadata": {},
   "outputs": [
    {
     "name": "stdout",
     "output_type": "stream",
     "text": [
      "[207 229 276 256 172 155  62]\n",
      "[814 270  98 175]\n"
     ]
    }
   ],
   "source": [
    "#calcul des totaux en ligne\n",
    "tot_lig = numpy.sum(Data.values,axis=1)\n",
    "print(tot_lig)\n",
    "\n",
    "\n",
    "#calcul des totaux en colonne\n",
    "tot_col = numpy.sum(Data.values,axis=0)\n",
    "print(tot_col)\n"
   ]
  },
  {
   "cell_type": "markdown",
   "metadata": {},
   "source": [
    "Analyse des profils lignes:\n"
   ]
  },
  {
   "cell_type": "code",
   "execution_count": 74,
   "metadata": {},
   "outputs": [
    {
     "name": "stdout",
     "output_type": "stream",
     "text": [
      "[[0.33333333 0.23671498 0.23188406 0.19806763]\n",
      " [0.64628821 0.19650655 0.06113537 0.09606987]\n",
      " [0.61594203 0.23550725 0.04347826 0.10507246]\n",
      " [0.62109375 0.22265625 0.046875   0.109375  ]\n",
      " [0.70930233 0.15116279 0.03488372 0.10465116]\n",
      " [0.68387097 0.13548387 0.03225806 0.1483871 ]\n",
      " [0.64516129 0.11290323 0.01612903 0.22580645]]\n"
     ]
    }
   ],
   "source": [
    "# calculons les proportions lignes\n",
    "prof_lig = numpy.apply_along_axis(arr=D.values,axis=1,func1d=lambda x:x/numpy.sum(x))\n",
    "print(prof_lig)"
   ]
  },
  {
   "cell_type": "markdown",
   "metadata": {},
   "source": [
    "représentation graphique  des profils des groupes d'âge"
   ]
  },
  {
   "cell_type": "code",
   "execution_count": 75,
   "metadata": {},
   "outputs": [
    {
     "data": {
      "image/png": "[encoded data removed]",
      "text/plain": [
       "<Figure size 432x288 with 1 Axes>"
      ]
     },
     "metadata": {
      "needs_background": "light"
     },
     "output_type": "display_data"
    }
   ],
   "source": [
    "somme = numpy.zeros(shape=(prof_lig.shape[0]))\n",
    "for i in range(prof_lig.shape[1]):\n",
    " plt.barh(range(prof_lig.shape[0]),prof_lig[:,i],left=somme)\n",
    " somme = somme + prof_lig[:,i]\n",
    "\n",
    "plt.yticks(range(prof_lig.shape[0]),D.index)\n",
    "plt.show()\n"
   ]
  },
  {
   "cell_type": "markdown",
   "metadata": {},
   "source": [
    " \n",
    "Dans notre exemple , on remarque que les profils des groupes d'âge 25-34, 35-44 et 45-54 sont proches les uns des autre"
   ]
  },
  {
   "cell_type": "markdown",
   "metadata": {},
   "source": [
    "calulons les profils marginals corresp. "
   ]
  },
  {
   "cell_type": "code",
   "execution_count": 76,
   "metadata": {},
   "outputs": [
    {
     "name": "stdout",
     "output_type": "stream",
     "text": [
      "[0.59985262 0.19896831 0.07221813 0.12896094]\n"
     ]
    }
   ],
   "source": [
    "prof_marg_lig = tot_col/numpy.sum(tot_col)\n",
    "print(prof_marg_lig)"
   ]
  },
  {
   "cell_type": "markdown",
   "metadata": {},
   "source": [
    " caculons la distance du KHI-2 (La  distance  entre  profils) entre la tranche 35-44(2) et 44-54(3)."
   ]
  },
  {
   "cell_type": "code",
   "execution_count": 77,
   "metadata": {},
   "outputs": [
    {
     "name": "stdout",
     "output_type": "stream",
     "text": [
      "0.001177576385652352\n"
     ]
    }
   ],
   "source": [
    "print(numpy.sum((prof_lig[2,:]-prof_lig[3,:])**2/prof_marg_lig))"
   ]
  },
  {
   "cell_type": "markdown",
   "metadata": {},
   "source": [
    "calculons la distance du KHI-2 entre la tranche(2) et 25-34(1)."
   ]
  },
  {
   "cell_type": "code",
   "execution_count": 78,
   "metadata": {},
   "outputs": [
    {
     "name": "stdout",
     "output_type": "stream",
     "text": [
      "0.014125469695901923\n"
     ]
    }
   ],
   "source": [
    "print(numpy.sum((prof_lig[2,:]-prof_lig[1,:])**2/prof_marg_lig))"
   ]
  },
  {
   "cell_type": "markdown",
   "metadata": {},
   "source": [
    "calculons la distance entre paires de modalités lignes."
   ]
  },
  {
   "cell_type": "code",
   "execution_count": 79,
   "metadata": {},
   "outputs": [
    {
     "name": "stdout",
     "output_type": "stream",
     "text": [
      "          16-24     25-34     35-44     44-54     55-64     65-74       75+\n",
      "16-24  0.000000  0.655781  0.691734  0.673993  0.877488  0.827296  0.889690\n",
      "25-34  0.655781  0.000000  0.014125  0.008684  0.027067  0.053841  0.193696\n",
      "35-44  0.691734  0.014125  0.000000  0.001178  0.051309  0.074267  0.200361\n",
      "44-54  0.673993  0.008684  0.001178  0.000000  0.040824  0.059522  0.179716\n",
      "55-64  0.877488  0.027067  0.051309  0.040824  0.000000  0.017242  0.132908\n",
      "65-74  0.827296  0.053841  0.074267  0.059522  0.017242  0.000000  0.055140\n",
      "75+    0.000000  0.000000  0.000000  0.000000  0.000000  0.000000  0.000000\n"
     ]
    }
   ],
   "source": [
    "distPairesLig = numpy.zeros(shape=(prof_lig.shape[0],prof_lig.shape[0]))\n",
    "#double boucle\n",
    "for i in range(prof_lig.shape[0]-1):\n",
    "  for j in range(0,prof_lig.shape[0]):\n",
    "     distPairesLig[i,j] = numpy.sum((prof_lig[i,:]-prof_lig[j,:])**2/prof_marg_lig)\n",
    " #distPairesLig[j,i] = distPairesLig[i,j]\n",
    "#affichage\n",
    "print(pandas.DataFrame(distPairesLig,index=D.index,columns=D.index))"
   ]
  },
  {
   "cell_type": "markdown",
   "metadata": {},
   "source": [
    "affichage sous forme de heatmap.\n",
    "Une représentation graphique sous forme de « heatmap » donne une vision globale des écarts."
   ]
  },
  {
   "cell_type": "code",
   "execution_count": 80,
   "metadata": {},
   "outputs": [
    {
     "data": {
      "text/plain": [
       "<AxesSubplot:>"
      ]
     },
     "execution_count": 80,
     "metadata": {},
     "output_type": "execute_result"
    },
    {
     "data": {
      "image/png": "[encoded data removed]",
      "text/plain": [
       "<Figure size 432x288 with 2 Axes>"
      ]
     },
     "metadata": {
      "needs_background": "light"
     },
     "output_type": "display_data"
    }
   ],
   "source": [
    "sns.heatmap(distPairesLig,vmin=0,vmax=numpy.max(distPairesLig),linewidth=0.1,cmap='PiYG',xticklabels=D.index,\n",
    "yticklabels=D.index)\n"
   ]
  },
  {
   "cell_type": "markdown",
   "metadata": {},
   "source": [
    "Les opinions de la tranche d'âge 25-34, 35-44 et 45-54  présentent des structures de choix assez proches . Il en est de même aussi, à un  moindre degré cependant , entre le  groupes  d'âge 16-24 "
   ]
  },
  {
   "cell_type": "markdown",
   "metadata": {},
   "source": [
    "Distance à l’origine"
   ]
  },
  {
   "cell_type": "code",
   "execution_count": 81,
   "metadata": {},
   "outputs": [
    {
     "name": "stdout",
     "output_type": "stream",
     "text": [
      "              0\n",
      "16-24  0.515613\n",
      "25-34  0.013715\n",
      "35-44  0.023004\n",
      "44-54  0.015440\n",
      "55-64  0.055340\n",
      "65-74  0.057061\n",
      "75+    0.156940\n"
     ]
    }
   ],
   "source": [
    "distoLig = numpy.apply_along_axis(arr=prof_lig,axis=1,func1d=lambda x:numpy.sum((x-prof_marg_lig)**2/prof_marg_lig))\n",
    "#affichage\n",
    "print(pandas.DataFrame(distoLig,index=D.index))"
   ]
  },
  {
   "cell_type": "markdown",
   "metadata": {},
   "source": [
    "Calculons le poids et l'inertie des lignes."
   ]
  },
  {
   "cell_type": "code",
   "execution_count": 82,
   "metadata": {},
   "outputs": [
    {
     "name": "stdout",
     "output_type": "stream",
     "text": [
      "         Disto2     Poids   Inertie\n",
      "16-24  0.515613  0.152542  0.078653\n",
      "25-34  0.013715  0.168755  0.002314\n",
      "35-44  0.023004  0.203390  0.004679\n",
      "44-54  0.015440  0.188651  0.002913\n",
      "55-64  0.055340  0.126750  0.007014\n",
      "65-74  0.057061  0.114223  0.006518\n",
      "75+    0.156940  0.045689  0.007170\n"
     ]
    }
   ],
   "source": [
    "poidsLig = tot_lig/numpy.sum(tot_lig)\n",
    "\n",
    "#inertie des lignes\n",
    "inertieLig = distoLig * poidsLig\n",
    "#affichage\n",
    "print(pandas.DataFrame(numpy.transpose([distoLig,poidsLig,inertieLig]),columns=['Disto2','Poids','Inertie'] ,index=D.index))\n"
   ]
  },
  {
   "cell_type": "markdown",
   "metadata": {},
   "source": [
    " Les poids sont des proportions marginales utilisées pour pondérer les profils des points lors du calcul des distances. Plus la distance à l'origine est grande, plus le profil de la catégorie est différent du profil moyen (plus la catégorie participe à la dépendance entre les deux variables). Les groupes d'âge 25-34, 35-44 et 45-54 ont la distance la plus courte à l'origine, ce qui indique que les profils de ces groupes sont proches du profil moyen.\n"
   ]
  },
  {
   "cell_type": "code",
   "execution_count": 83,
   "metadata": {},
   "outputs": [
    {
     "name": "stdout",
     "output_type": "stream",
     "text": [
      "0.10926129027524115\n"
     ]
    }
   ],
   "source": [
    "#total inertie\n",
    "tot_InertieLig = numpy.sum(inertieLig)\n",
    "print(tot_InertieLig)"
   ]
  },
  {
   "cell_type": "markdown",
   "metadata": {},
   "source": [
    "Nous réalisons une AFC avec le package « fanalysis »."
   ]
  },
  {
   "cell_type": "markdown",
   "metadata": {},
   "source": [
    "Affichons les valeurs propres.\n",
    "\n",
    "Affichons la fraction d’inertie restituée par facteur.\n",
    "\n",
    "Affichons la fraction d’inertie restituée cumulée."
   ]
  },
  {
   "cell_type": "code",
   "execution_count": 84,
   "metadata": {},
   "outputs": [
    {
     "name": "stdout",
     "output_type": "stream",
     "text": [
      "[[9.46644758e-02 1.16630074e-02 2.93380708e-03]\n",
      " [8.66404521e+01 1.06744185e+01 2.68512945e+00]\n",
      " [8.66404521e+01 9.73148705e+01 1.00000000e+02]]\n"
     ]
    }
   ],
   "source": [
    "afc = CA(row_labels=D.index,col_labels=D.columns)\n",
    "afc.fit(D.values)\n",
    "#information restituée sur les facteurs\n",
    "print(afc.eig_)\n",
    "\n",
    "\n",
    "\n"
   ]
  },
  {
   "cell_type": "code",
   "execution_count": 85,
   "metadata": {},
   "outputs": [
    {
     "name": "stdout",
     "output_type": "stream",
     "text": [
      "              0         1         2\n",
      "16-24 -0.717578 -0.025250 -0.007524\n",
      "25-34  0.086735  0.055674 -0.055606\n",
      "35-44  0.102691  0.097388  0.054534\n",
      "44-54  0.096790  0.069078  0.036061\n",
      "55-64  0.215953 -0.042370 -0.083119\n",
      "65-74  0.182981 -0.152328 -0.019371\n",
      "75+    0.162087 -0.341728  0.117856\n"
     ]
    }
   ],
   "source": [
    "#coordonnees des modalites lignes\n",
    "print(pandas.DataFrame(afc.row_coord_,index=D.index))"
   ]
  },
  {
   "cell_type": "markdown",
   "metadata": {},
   "source": [
    "\n",
    "Nous observons pour chaque ligne de la matrice « eig_ »: les valeurs propres des \"min(7-1, 4-1)= 3\" facteurs, la fraction\n",
    "\n",
    "d’inertie restituée par facteur et cumulée. La variance du 1er facteur est égale à (𝜆1 = 0.09466), elle représente déjà\n",
    "\n",
    "( 0.09466/0.10926129027524115 = 86,68%) de l’inertie totale.\n"
   ]
  },
  {
   "cell_type": "code",
   "execution_count": 86,
   "metadata": {},
   "outputs": [
    {
     "data": {
      "image/png": "[encoded data removed]",
      "text/plain": [
       "<Figure size 432x288 with 1 Axes>"
      ]
     },
     "metadata": {
      "needs_background": "light"
     },
     "output_type": "display_data"
    },
    {
     "name": "stdout",
     "output_type": "stream",
     "text": [
      "0.011663007366455366\n"
     ]
    }
   ],
   "source": [
    "#affichage graphique des v.p.\n",
    "afc.plot_eigenvalues()\n",
    "print(numpy.sum(poidsLig* afc.row_coord_[:,1]**2))"
   ]
  },
  {
   "cell_type": "markdown",
   "metadata": {},
   "source": [
    "Nous représentons les individus lignes dans le premier plan factoriel qui restitue 97.3% de l’information disponible."
   ]
  },
  {
   "cell_type": "code",
   "execution_count": 87,
   "metadata": {},
   "outputs": [
    {
     "data": {
      "image/png": "[encoded data removed]",
      "text/plain": [
       "<Figure size 720x720 with 1 Axes>"
      ]
     },
     "metadata": {
      "needs_background": "light"
     },
     "output_type": "display_data"
    }
   ],
   "source": [
    "#affichage dans le premier plan factoriel\n",
    "fig, ax = plt.subplots(figsize=(10,10))\n",
    "ax.axis([-0.5,+0.5,-0.5,+0.5])\n",
    "ax.plot([-0.5,+0.5],[0,0],color='red',linestyle='--')\n",
    "ax.plot([0,0],[-0.5,+0.5],color='red',linestyle='--')\n",
    "ax.set_xlabel(\"Dim.1 (86,68% )\")\n",
    "ax.set_ylabel(\"Dim.2 (10,62%)\")\n",
    "plt.title(\"Carte des modalités lignes\")\n",
    "for i in range(D.shape[0]):\n",
    " ax.text(afc.row_coord_[i,0],afc.row_coord_[i,1],D.index[i])\n",
    "\n",
    "plt.show()"
   ]
  },
  {
   "cell_type": "markdown",
   "metadata": {},
   "source": [
    "En mettant la même échelle en abscisse et ordonnées, nous constatons que la différenciation des modalités lignes se joue \n",
    "\n",
    "quasi-exclusivement sur le premier axe factoriel"
   ]
  },
  {
   "cell_type": "markdown",
   "metadata": {},
   "source": [
    "Calculons les distances euclidienne dans le 1er plan."
   ]
  },
  {
   "cell_type": "code",
   "execution_count": 88,
   "metadata": {},
   "outputs": [
    {
     "name": "stdout",
     "output_type": "stream",
     "text": [
      "          16-24     25-34     35-44     44-54     55-64     65-74       75+\n",
      "16-24  0.000000  0.646921  0.672843  0.663196  0.871480  0.811007  0.773811\n",
      "25-34  0.646921  0.000000  0.000255  0.000101  0.016697  0.009263  0.005678\n",
      "35-44  0.672843  0.000255  0.000000  0.000035  0.012828  0.006446  0.003528\n",
      "44-54  0.663196  0.000101  0.000035  0.000000  0.014200  0.007429  0.004264\n",
      "55-64  0.871480  0.016697  0.012828  0.014200  0.000000  0.001087  0.002902\n",
      "65-74  0.811007  0.009263  0.006446  0.007429  0.001087  0.000000  0.000437\n",
      "75+    0.000000  0.000000  0.000000  0.000000  0.000000  0.000000  0.000000\n"
     ]
    }
   ],
   "source": [
    "distPairesLigF1 = numpy.zeros(shape=(prof_lig.shape[0],prof_lig.shape[0]))\n",
    "#double boucle\n",
    "for i in range(prof_lig.shape[0]-1):\n",
    "   for j in range(0,prof_lig.shape[0]):\n",
    "      distPairesLigF1[i,j] = numpy.sum((afc.row_coord_[i,0]-afc.row_coord_[j,0])**2)\n",
    "\n",
    "#affichage\n",
    "print(pandas.DataFrame(distPairesLigF1,index=D.index,columns=D.index))"
   ]
  },
  {
   "cell_type": "markdown",
   "metadata": {},
   "source": [
    "# Analyse des colonnes."
   ]
  },
  {
   "cell_type": "markdown",
   "metadata": {},
   "source": [
    " De la même manière que pour les profils lignes, nous pouvons calculer les distances à l’origine , les poids (des colonnes) et les inerties."
   ]
  },
  {
   "cell_type": "markdown",
   "metadata": {},
   "source": [
    "Nous calculons tout d’abord le profil « moyen » des filières."
   ]
  },
  {
   "cell_type": "code",
   "execution_count": 89,
   "metadata": {},
   "outputs": [
    {
     "name": "stdout",
     "output_type": "stream",
     "text": [
      "[0.15254237 0.16875461 0.20338983 0.18865144 0.12675018 0.11422255\n",
      " 0.04568902]\n"
     ]
    }
   ],
   "source": [
    "#profil marginal des filières\n",
    "prof_marg_col = tot_lig/numpy.sum(tot_lig)\n",
    "print(prof_marg_col)"
   ]
  },
  {
   "cell_type": "code",
   "execution_count": 90,
   "metadata": {},
   "outputs": [
    {
     "name": "stdout",
     "output_type": "stream",
     "text": [
      "        Mauvais     Moyen       Bon  Tres bon\n",
      "16-24  0.084767  0.181481  0.489796  0.234286\n",
      "25-34  0.181818  0.166667  0.142857  0.125714\n",
      "35-44  0.208845  0.240741  0.122449  0.165714\n",
      "44-54  0.195332  0.211111  0.122449  0.160000\n",
      "55-64  0.149877  0.096296  0.061224  0.102857\n",
      "65-74  0.130221  0.077778  0.051020  0.131429\n",
      "75+    0.049140  0.025926  0.010204  0.080000\n"
     ]
    }
   ],
   "source": [
    "#tableau des profils colonnes\n",
    "prof_col = numpy.apply_along_axis(arr=D.values,axis=0,func1d=lambda x:x/numpy.sum(x))\n",
    "print(pandas.DataFrame(prof_col,index=D.index,columns=D.columns))"
   ]
  },
  {
   "cell_type": "markdown",
   "metadata": {},
   "source": [
    "Pour chaque colones, nous formons la distance à l’origine"
   ]
  },
  {
   "cell_type": "code",
   "execution_count": 91,
   "metadata": {},
   "outputs": [
    {
     "name": "stdout",
     "output_type": "stream",
     "text": [
      "                 0\n",
      "Mauvais   0.038229\n",
      "Moyen     0.042543\n",
      "Bon       0.901452\n",
      "Tres bon  0.098974\n"
     ]
    }
   ],
   "source": [
    "#distance**2 à l'orgine\n",
    "distoCol = numpy.apply_along_axis(arr=prof_col,axis=0,func1d=lambda x:numpy.sum((x\n",
    "-prof_marg_col)**2/prof_marg_col))\n",
    "\n",
    "#affichage\n",
    "print(pandas.DataFrame(distoCol,index=D.columns))"
   ]
  },
  {
   "cell_type": "markdown",
   "metadata": {},
   "source": [
    "La composition des opinions est manifestement différente de la globalité. En comparant son profil avec le profil marginal, nous notons une surreprésentation des opinion des groupes d'âge 25-34, 35-44 et 45-54  , et une sous-représentation des les vieillards.\n"
   ]
  },
  {
   "cell_type": "markdown",
   "metadata": {},
   "source": [
    "calculons le poids "
   ]
  },
  {
   "cell_type": "code",
   "execution_count": 92,
   "metadata": {},
   "outputs": [
    {
     "name": "stdout",
     "output_type": "stream",
     "text": [
      "                 0\n",
      "Mauvais   0.599853\n",
      "Moyen     0.198968\n",
      "Bon       0.072218\n",
      "Tres bon  0.128961\n"
     ]
    }
   ],
   "source": [
    "#poids de chaque colonne\n",
    "poidsCol = tot_col/numpy.sum(tot_col)\n",
    "print(pandas.DataFrame(poidsCol,index=D.columns))"
   ]
  },
  {
   "cell_type": "markdown",
   "metadata": {},
   "source": [
    "calculons les inerties."
   ]
  },
  {
   "cell_type": "code",
   "execution_count": 93,
   "metadata": {},
   "outputs": [
    {
     "name": "stdout",
     "output_type": "stream",
     "text": [
      "                 0\n",
      "Mauvais   0.022932\n",
      "Moyen     0.008465\n",
      "Bon       0.065101\n",
      "Tres bon  0.012764\n"
     ]
    }
   ],
   "source": [
    "#inertie\n",
    "inertieCol = distoCol*poidsCol\n",
    "print(pandas.DataFrame(inertieCol,index=D.columns))"
   ]
  },
  {
   "cell_type": "markdown",
   "metadata": {},
   "source": [
    "Les \n",
    "jugement \"Bon\" et \"Mauvais\" sont celles qui pèseront le plus dans l’analyse, mais pas pour les mêmes raisons : la première\"BON\"\n",
    "parce que sa distance à l'origine est élevée 0.901452 , la seconde parce qu’elle rassemble un grand nombre des opinions (poids  = 0.599853 )."
   ]
  },
  {
   "cell_type": "code",
   "execution_count": 94,
   "metadata": {},
   "outputs": [
    {
     "name": "stdout",
     "output_type": "stream",
     "text": [
      "0.10926129027524116\n"
     ]
    }
   ],
   "source": [
    "#somme des inerties\n",
    "print(numpy.sum(inertieCol))"
   ]
  },
  {
   "cell_type": "markdown",
   "metadata": {},
   "source": [
    " La somme des inerties des modalités colonnes identique à la somme des inerties des modalités lignes . Ce n’est pas un       hasard.\n",
    "\n",
    "En AFC, les lignes et les colonnes jouent des roles symetriques(dualité). "
   ]
  },
  {
   "cell_type": "markdown",
   "metadata": {},
   "source": [
    "nous affichons les coordonnées des modalités colonnes pour les 3 facteurs de l’AFC sur les données ."
   ]
  },
  {
   "cell_type": "code",
   "execution_count": 95,
   "metadata": {},
   "outputs": [
    {
     "name": "stdout",
     "output_type": "stream",
     "text": [
      "                 0         1         2\n",
      "Mauvais   0.193240 -0.010786 -0.027758\n",
      "Moyen    -0.102011  0.166096  0.067447\n",
      "Bon      -0.943976  0.019601 -0.099887\n",
      "Tres bon -0.212830 -0.217067  0.080991\n"
     ]
    }
   ],
   "source": [
    "\n",
    "print(pandas.DataFrame(afc.col_coord_,index=D.columns))"
   ]
  },
  {
   "cell_type": "markdown",
   "metadata": {},
   "source": [
    "passons à la représentation graphique dans le plan."
   ]
  },
  {
   "cell_type": "code",
   "execution_count": 96,
   "metadata": {},
   "outputs": [
    {
     "data": {
      "image/png": "[encoded data removed]",
      "text/plain": [
       "<Figure size 720x720 with 1 Axes>"
      ]
     },
     "metadata": {
      "needs_background": "light"
     },
     "output_type": "display_data"
    }
   ],
   "source": [
    "\n",
    "#affichage dans le premier plan factoriel\n",
    "fig, ax = plt.subplots(figsize=(10,10))\n",
    "ax.axis([-0.7,+0.7,-0.7,+0.7])\n",
    "ax.plot([-0.7,+0.7],[0,0],color='blue',linestyle='--')\n",
    "ax.plot([0,0],[-0.7,+0.7],color='blue',linestyle='--')\n",
    "ax.set_xlabel(\"Dim.1 \")\n",
    "ax.set_ylabel(\"Dim.2 \")\n",
    "plt.title(\"Carte des modalités colonnes\")\n",
    "\n",
    "for i in range(D.shape[1]):\n",
    "   ax.text(afc.col_coord_[i,0],afc.col_coord_[i,1],D.columns[i])\n",
    "plt.show()"
   ]
  },
  {
   "cell_type": "markdown",
   "metadata": {},
   "source": [
    "# Analyse de l’association lignes-colonnes"
   ]
  },
  {
   "cell_type": "markdown",
   "metadata": {},
   "source": [
    "nous formons le tableau des effectifs théoriques :"
   ]
  },
  {
   "cell_type": "code",
   "execution_count": 97,
   "metadata": {},
   "outputs": [
    {
     "name": "stdout",
     "output_type": "stream",
     "text": [
      "[[124.16949153  41.18644068  14.94915254  26.69491525]\n",
      " [137.36624908  45.56374355  16.53795136  29.53205601]\n",
      " [165.55932203  54.91525424  19.93220339  35.59322034]\n",
      " [153.56226971  50.93588799  18.48784083  33.01400147]\n",
      " [103.17464996  34.22254974  12.42151805  22.18128224]\n",
      " [ 92.97715549  30.84008843  11.19380987  19.9889462 ]\n",
      " [ 37.1908622   12.33603537   4.47752395   7.99557848]]\n"
     ]
    }
   ],
   "source": [
    "#effectifs totaux\n",
    "n = numpy.sum(D.values)\n",
    "#tableau sous indépendance\n",
    "E = numpy.dot(numpy.reshape(tot_lig,(7,1)),numpy.reshape(tot_col,(1,4)))/n\n",
    "print(E)"
   ]
  },
  {
   "cell_type": "markdown",
   "metadata": {},
   "source": [
    "Nous pouvons calculer la statistique de test et la probabilité critique :"
   ]
  },
  {
   "cell_type": "code",
   "execution_count": 98,
   "metadata": {},
   "outputs": [
    {
     "name": "stdout",
     "output_type": "stream",
     "text": [
      "148.26757090350225\n"
     ]
    }
   ],
   "source": [
    "#statistique du KHI-2\n",
    "KHI2 = numpy.sum(((D.values-E)**2)/E)\n",
    "print(KHI2)\n"
   ]
  },
  {
   "cell_type": "code",
   "execution_count": 99,
   "metadata": {},
   "outputs": [
    {
     "name": "stdout",
     "output_type": "stream",
     "text": [
      "18\n"
     ]
    }
   ],
   "source": [
    "#degré de liberté\n",
    "ddl = (E.shape[0]-1)*(E.shape[1]-1)\n",
    "print(ddl)\n"
   ]
  },
  {
   "cell_type": "markdown",
   "metadata": {},
   "source": [
    "La valeur p du test."
   ]
  },
  {
   "cell_type": "code",
   "execution_count": 100,
   "metadata": {},
   "outputs": [
    {
     "name": "stdout",
     "output_type": "stream",
     "text": [
      "0.0\n"
     ]
    }
   ],
   "source": [
    "print(1-scipy.stats.chi2.cdf(KHI2,ddl))\n"
   ]
  },
  {
   "cell_type": "markdown",
   "metadata": {},
   "source": [
    "Si la valeur p est inférieure à 0,05. Cela indique des preuves solides contre l'hypothèse nulle, car il y a moins de 5% de probabilité que la valeur nulle soit correcte (et les résultats sont aléatoires). Par conséquent, nous rejetons l'hypothèse nulle.\n",
    "\n",
    "Sinon nous conservons l'hypothèse nulle.\n",
    "\n",
    "Donc, Le test conduit au rejet de l’hypothèse nulle (p-value ≈ 0). Manifestement\n"
   ]
  },
  {
   "cell_type": "code",
   "execution_count": 101,
   "metadata": {},
   "outputs": [
    {
     "data": {
      "image/png": "[encoded data removed]",
      "text/plain": [
       "<Figure size 720x720 with 1 Axes>"
      ]
     },
     "metadata": {
      "needs_background": "light"
     },
     "output_type": "display_data"
    }
   ],
   "source": [
    "#représentation simultanée\n",
    "fig, ax = plt.subplots(figsize=(10,10))\n",
    "ax.axis([-0.7,+0.7,-0.7,+0.7])\n",
    "ax.plot([-0.7,+0.7],[0,0],color='silver',linestyle='--')\n",
    "ax.plot([0,0],[-0.7,+0.7],color='silver',linestyle='--')\n",
    "ax.set_xlabel(\"Dim.1 (97.35% )\")\n",
    "ax.set_ylabel(\"Dim.2 (2.01%)\")\n",
    "plt.title(\"Carte des modalités lignes et colonnes\")\n",
    "#modalités ligne\n",
    "for i in range(D.shape[0]):\n",
    " ax.text(afc.row_coord_[i,0],afc.row_coord_[i,1],D.index[i],color='blue')\n",
    "#modalités colonne\n",
    "for i in range(D.shape[1]):\n",
    " ax.text(afc.col_coord_[i,0],afc.col_coord_[i,1],D.columns[i],color='red')\n",
    "\n",
    "plt.show()"
   ]
  }
 ],
 "metadata": {
  "kernelspec": {
   "display_name": "Python 3 (ipykernel)",
   "language": "python",
   "name": "python3"
  },
  "language_info": {
   "codemirror_mode": {
    "name": "ipython",
    "version": 3
   },
   "file_extension": ".py",
   "mimetype": "text/x-python",
   "name": "python",
   "nbconvert_exporter": "python",
   "pygments_lexer": "ipython3",
   "version": "3.9.7"
  }
 },
 "nbformat": 4,
 "nbformat_minor": 2
}
